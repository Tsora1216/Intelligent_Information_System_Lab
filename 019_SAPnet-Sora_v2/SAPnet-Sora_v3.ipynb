{
 "cells": [
  {
   "attachments": {},
   "cell_type": "markdown",
   "metadata": {},
   "source": [
    "[この実験について](https://tsora1216.github.io/Intelligent_Information_System_Lab/02_paper_02.html)←クリック！"
   ]
  },
  {
   "cell_type": "code",
   "execution_count": 1,
   "metadata": {},
   "outputs": [],
   "source": [
    "import sqlite3\n",
    "\n",
    "def SQL_SetUp():\n",
    "    conn = sqlite3.connect('database.sqlite')\n",
    "    cursor = conn.cursor()\n",
    "\n",
    "    # データベースファイルが存在する場合は処理を終了\n",
    "    cursor.execute(\"SELECT name FROM sqlite_master WHERE type='table'\")\n",
    "    existing_tables = cursor.fetchall()\n",
    "    if existing_tables:\n",
    "        print(\"Database already exists. Exiting setup.\")\n",
    "        conn.close()\n",
    "        return\n",
    "\n",
    "    # テーブルを作成\n",
    "    cursor.execute('''\n",
    "        CREATE TABLE knowledge (\n",
    "            id INTEGER PRIMARY KEY AUTOINCREMENT,\n",
    "            angle FLOAT,\n",
    "            distance FLOAT,\n",
    "            activation FLOAT DEFAULT 0,\n",
    "            description TEXT\n",
    "        )\n",
    "    ''')\n",
    "\n",
    "    conn.commit()\n",
    "    conn.close()\n",
    "\n",
    "# データベースのセットアップ\n",
    "SQL_SetUp()\n"
   ]
  },
  {
   "cell_type": "code",
   "execution_count": 2,
   "metadata": {},
   "outputs": [],
   "source": [
    "import sqlite3\n",
    "\n",
    "def SQL_InsertData():\n",
    "    data = [\n",
    "        (\"直進\", 320, 4, 0),\n",
    "        (\"右寄りの直進\", 340, 2, 0),\n",
    "        (\"直進\", 0, 1, 0),\n",
    "        (\"右寄りの直進\", 20, 2, 0),\n",
    "        (\"直進\", 40, 4, 0)\n",
    "    ]\n",
    "\n",
    "    conn = sqlite3.connect('database.sqlite')\n",
    "    cursor = conn.cursor()\n",
    "\n",
    "    # データを挿入\n",
    "    cursor.executemany(\"INSERT INTO knowledge (description, angle, distance, activation) VALUES (?, ?, ?, ?)\", data)\n",
    "\n",
    "    conn.commit()\n",
    "    conn.close()\n",
    "\n",
    "# データの挿入\n",
    "SQL_InsertData()"
   ]
  },
  {
   "cell_type": "code",
   "execution_count": 3,
   "metadata": {},
   "outputs": [],
   "source": [
    "import sqlite3\n",
    "\n",
    "def SQL_AddData(description, angle, distance, activation):\n",
    "    conn = sqlite3.connect('database.sqlite')\n",
    "    cursor = conn.cursor()\n",
    "\n",
    "    # データを挿入\n",
    "    cursor.execute(\"INSERT INTO knowledge (description, angle, distance, activation) VALUES (?, ?, ?, ?)\",\n",
    "                   (description, angle, distance, activation))\n",
    "\n",
    "    conn.commit()\n",
    "    conn.close()\n",
    "\n",
    "# データの追加\n",
    "description = input(\"説明: \")\n",
    "angle = float(input(\"角度: \"))\n",
    "distance = float(input(\"距離: \"))\n",
    "activation = float(0.0)\n",
    "\n",
    "SQL_AddData(description, angle, distance, activation)\n"
   ]
  },
  {
   "cell_type": "code",
   "execution_count": 4,
   "metadata": {},
   "outputs": [
    {
     "name": "stdout",
     "output_type": "stream",
     "text": [
      "(1, 320.0, 4.0, 0.0, '直進')\n",
      "(2, 340.0, 2.0, 0.0, '右寄りの直進')\n",
      "(3, 0.0, 1.0, 0.0, '直進')\n",
      "(4, 20.0, 2.0, 0.0, '右寄りの直進')\n",
      "(5, 40.0, 4.0, 0.0, '直進')\n",
      "(6, 180.0, 2.0, 0.0, '後退')\n"
     ]
    }
   ],
   "source": [
    "import sqlite3\n",
    "\n",
    "def SQL_DisplayData():\n",
    "    conn = sqlite3.connect('database.sqlite')\n",
    "    cursor = conn.cursor()\n",
    "\n",
    "    # データを取得して表示\n",
    "    cursor.execute(\"SELECT * FROM knowledge\")\n",
    "    rows = cursor.fetchall()\n",
    "    for row in rows:\n",
    "        print(row)\n",
    "\n",
    "    conn.close()\n",
    "\n",
    "# データの表示\n",
    "SQL_DisplayData()\n"
   ]
  },
  {
   "cell_type": "code",
   "execution_count": 9,
   "metadata": {},
   "outputs": [
    {
     "data": {
      "image/png": "[encoded data removed]",
      "text/plain": [
       "<Figure size 800x800 with 1 Axes>"
      ]
     },
     "metadata": {},
     "output_type": "display_data"
    }
   ],
   "source": [
    "import numpy as np\n",
    "import matplotlib.pyplot as plt\n",
    "import sqlite3\n",
    "from matplotlib.font_manager import FontProperties\n",
    "\n",
    "def plot_points():\n",
    "    conn = sqlite3.connect('database.sqlite')\n",
    "    cursor = conn.cursor()\n",
    "\n",
    "    # データを取得\n",
    "    cursor.execute(\"SELECT description, angle, distance FROM knowledge\")\n",
    "    rows = cursor.fetchall()\n",
    "\n",
    "    conn.close()\n",
    "\n",
    "    # データを変換\n",
    "    converted_points = []\n",
    "    descriptions = []\n",
    "    for description, angle, distance in rows:\n",
    "        shifted_angle = angle + 90  # 角度を+90度ずらす\n",
    "        x = distance * np.cos(np.deg2rad(shifted_angle))\n",
    "        y = distance * np.sin(np.deg2rad(shifted_angle))\n",
    "        converted_points.append((x, y))\n",
    "        descriptions.append(description)\n",
    "\n",
    "    # 図にプロット\n",
    "    fig, ax = plt.subplots(figsize=(8, 8))  # グラフのサイズを設定\n",
    "    ax.set_aspect('equal')\n",
    "    ax.set_xlim(-5, 5)\n",
    "    ax.set_ylim(-5, 5)\n",
    "\n",
    "    # MS Gothicフォントを読み込む\n",
    "    font_prop = FontProperties(fname=r'C:\\Windows\\Fonts\\msgothic.ttc', size=9)\n",
    "\n",
    "    # ポイントをプロット\n",
    "    scatter = ax.scatter(*zip(*converted_points), c='b', marker='o')\n",
    "\n",
    "    # 中心座標を計算\n",
    "    center_x, center_y = 0, 0\n",
    "\n",
    "    # 点と中心を線で結ぶ\n",
    "    for point, description in zip(converted_points, descriptions):\n",
    "        x, y = point\n",
    "        ax.plot([center_x, x], [center_y, y], 'r--')\n",
    "        ax.text(x, y, description, ha='center', va='bottom', fontproperties=font_prop)\n",
    "\n",
    "    plt.show()\n",
    "\n",
    "# データのプロット\n",
    "plot_points()\n"
   ]
  }
 ],
 "metadata": {
  "kernelspec": {
   "display_name": "Python 3",
   "language": "python",
   "name": "python3"
  },
  "language_info": {
   "codemirror_mode": {
    "name": "ipython",
    "version": 3
   },
   "file_extension": ".py",
   "mimetype": "text/x-python",
   "name": "python",
   "nbconvert_exporter": "python",
   "pygments_lexer": "ipython3",
   "version": "3.11.3"
  },
  "orig_nbformat": 4
 },
 "nbformat": 4,
 "nbformat_minor": 2
}
