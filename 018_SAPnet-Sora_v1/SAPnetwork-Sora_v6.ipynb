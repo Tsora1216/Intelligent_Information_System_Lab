{
 "cells": [
  {
   "attachments": {},
   "cell_type": "markdown",
   "metadata": {},
   "source": [
    "二次元マップで中心にエージェントを仮想的に配置した\n",
    "10個のランダムな距離と中心からの角度を生成し、それらを点P群とした\n",
    "それらの点P群は距離は0～500cm(5m)で、角度は0～360°の値をとっている\n",
    "それらの点P群を二次元マップに書き込んで表示している\n",
    "さらに線を追加して中心からの距離を可視化\n",
    "\n",
    "SQLiteを使用して、データベースによる情報の保持テストを開始した。\n",
    "まずはデータベースを作成するプログラムを組んだ。\n",
    "その中でもSQLファイルが存在しない環境下のみ動作するように変更を行った。\n",
    "さらに、環境に変化を加え、SQLで作成するテーブルは２つ作成するようにした\n",
    "１つ目は、knowledgeテーブルである。このテーブルでは、選択的知識の各々の知識が持つ原点からの距離rや角度θを保持するものである。\n",
    "２つ目は、euclidean_distanceテーブルである。euclidean_distanceテーブルとは、知識間の活性化の値を保持するものであり、knowledgeテーブルに変更を加えた場合動作させる必要がある。\n",
    "３つ目は、activity_valueテーブルである。activity_valueテーブルとは、全知識の活性値を保持するテーブルである。処理が回るたびに忘却の処理を施す必要がある。活性化などで数値を変化させていくテーブルはこのテーブルである。"
   ]
  },
  {
   "cell_type": "code",
   "execution_count": 3,
   "metadata": {},
   "outputs": [
    {
     "data": {
      "image/png": "[encoded data removed]",
      "text/plain": [
       "<Figure size 640x480 with 1 Axes>"
      ]
     },
     "metadata": {},
     "output_type": "display_data"
    }
   ],
   "source": [
    "import numpy as np\n",
    "import matplotlib.pyplot as plt\n",
    "\n",
    "def generate_points():\n",
    "    points = [\n",
    "        (320, 4),\n",
    "        (340, 2),\n",
    "        (0, 1),\n",
    "        (20, 2),\n",
    "        (40, 4)\n",
    "    ]\n",
    "    converted_points = []\n",
    "    for angle, distance in points:\n",
    "        x = distance * np.cos(np.deg2rad(angle))\n",
    "        y = distance * np.sin(np.deg2rad(angle))\n",
    "        converted_points.append((x, y))\n",
    "    return converted_points\n",
    "\n",
    "def plot_points_with_lines(points):\n",
    "    fig, ax = plt.subplots()\n",
    "    ax.set_aspect('equal')\n",
    "    ax.set_xlim(-5, 5)\n",
    "    ax.set_ylim(-5, 5)\n",
    "\n",
    "    # ポイントをプロット\n",
    "    ax.scatter(*zip(*points), c='b', marker='o')\n",
    "\n",
    "    # 中心座標を計算\n",
    "    center_x, center_y = 0, 0s\n",
    "\n",
    "    # 点と中心を線で結ぶ\n",
    "    for point in points:\n",
    "        x, y = point\n",
    "        ax.plot([center_x, x], [center_y, y], 'r--')\n",
    "\n",
    "    plt.show()\n",
    "\n",
    "points = generate_points()\n",
    "plot_points_with_lines(points)\n"
   ]
  }
 ],
 "metadata": {
  "kernelspec": {
   "display_name": "Python 3",
   "language": "python",
   "name": "python3"
  },
  "language_info": {
   "codemirror_mode": {
    "name": "ipython",
    "version": 3
   },
   "file_extension": ".py",
   "mimetype": "text/x-python",
   "name": "python",
   "nbconvert_exporter": "python",
   "pygments_lexer": "ipython3",
   "version": "3.11.3"
  },
  "orig_nbformat": 4
 },
 "nbformat": 4,
 "nbformat_minor": 2
}
