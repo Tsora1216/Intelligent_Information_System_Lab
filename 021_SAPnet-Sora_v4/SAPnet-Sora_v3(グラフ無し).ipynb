{
 "cells": [
  {
   "cell_type": "code",
   "execution_count": 1,
   "metadata": {},
   "outputs": [],
   "source": [
    "import os\n",
    "import io\n",
    "import glob\n",
    "import base64\n",
    "import sqlite3\n",
    "import datetime\n",
    "import numpy as np\n",
    "import pandas as pd\n",
    "import networkx as nx\n",
    "import seaborn as sns\n",
    "from PIL import Image\n",
    "import matplotlib as mpl\n",
    "import japanize_matplotlib\n",
    "import matplotlib.pyplot as plt\n",
    "from IPython import display as dd\n",
    "from matplotlib.font_manager import FontProperties"
   ]
  },
  {
   "cell_type": "code",
   "execution_count": 2,
   "metadata": {},
   "outputs": [],
   "source": [
    "# Get current time\n",
    "current_time = datetime.datetime.now().strftime(\"%Y%m%d%H%M%S\")\n",
    "# Create output folder with the current time as part of the name\n",
    "folder_name = f\"./Output_{current_time}\"\n",
    "if not os.path.exists(folder_name):\n",
    "    os.makedirs(folder_name)\n",
    "\n",
    "# 出力\n",
    "Heatmap_path = folder_name + '/heatmap.png'\n",
    "Network_path = folder_name + '/network.png'\n",
    "Plotpoint_path = folder_name + '/plotpoint.png'\n",
    "GIF_path_100 = folder_name + '/graph_100.gif'\n",
    "GIF_path_1000 = folder_name + '/graph_1000.gif'"
   ]
  },
  {
   "cell_type": "code",
   "execution_count": 3,
   "metadata": {},
   "outputs": [
    {
     "name": "stdout",
     "output_type": "stream",
     "text": [
      "Database already exists. Exiting setup.\n"
     ]
    }
   ],
   "source": [
    "import sqlite3\n",
    "\n",
    "def SQL_SetUp():\n",
    "    conn = sqlite3.connect('database.sqlite')\n",
    "    cursor = conn.cursor()\n",
    "\n",
    "    # データベースファイルが存在する場合は処理を終了\n",
    "    cursor.execute(\"SELECT name FROM sqlite_master WHERE type='table'\")\n",
    "    existing_tables = cursor.fetchall()\n",
    "    if existing_tables:\n",
    "        print(\"Database already exists. Exiting setup.\")\n",
    "        conn.close()\n",
    "        return\n",
    "\n",
    "    # テーブルを作成\n",
    "    cursor.execute('''\n",
    "        CREATE TABLE knowledge (\n",
    "            id INTEGER PRIMARY KEY AUTOINCREMENT,\n",
    "            angle FLOAT,\n",
    "            distance FLOAT,\n",
    "            activation FLOAT DEFAULT 0,\n",
    "            description TEXT\n",
    "        )\n",
    "    ''')\n",
    "\n",
    "    data = [\n",
    "        (\"直進\", 333.44, 1.12, 0),#１番の知識\n",
    "        (\"左寄りの直進\", 345.97, 1.03, 0),#２番の知識\n",
    "        (\"右寄りの直進\", 0, 1, 0),#１番の知識\n",
    "        (\"右寄りの直進\", 14.04, 1.03, 0),#１番の知識\n",
    "        (\"直進\", 26.56, 1.12, 0)#１番の知識\n",
    "    ]\n",
    "\n",
    "    # データを挿入\n",
    "    cursor.executemany(\"INSERT INTO knowledge (description, angle, distance, activation) VALUES (?, ?, ?, ?)\", data)\n",
    "\n",
    "    conn.commit()\n",
    "    conn.close()\n",
    "\n",
    "# データベースのセットアップ\n",
    "SQL_SetUp()\n"
   ]
  },
  {
   "cell_type": "code",
   "execution_count": 4,
   "metadata": {},
   "outputs": [
    {
     "name": "stdout",
     "output_type": "stream",
     "text": [
      "   id   angle  distance  activation description\n",
      "0   1  333.44      1.12         0.0          直進\n",
      "1   2  345.97      1.03         0.0      左寄りの直進\n",
      "2   3    0.00      1.00         0.0      右寄りの直進\n",
      "3   4   14.04      1.03         0.0      右寄りの直進\n",
      "4   5   26.56      1.12         0.0          直進\n"
     ]
    }
   ],
   "source": [
    "def SQL_GetData():\n",
    "    conn = sqlite3.connect('database.sqlite')\n",
    "    cursor = conn.cursor()\n",
    "\n",
    "    # データを取得してDataFrameに格納\n",
    "    cursor.execute(\"SELECT * FROM knowledge\")\n",
    "    rows = cursor.fetchall()\n",
    "    columns = [description[0] for description in cursor.description]\n",
    "    df = pd.DataFrame(rows, columns=columns)\n",
    "\n",
    "    conn.close()\n",
    "\n",
    "    return df\n",
    "\n",
    "# データの取得と表示\n",
    "df = SQL_GetData()\n",
    "print(df)\n"
   ]
  },
  {
   "cell_type": "code",
   "execution_count": 5,
   "metadata": {},
   "outputs": [
    {
     "name": "stdout",
     "output_type": "stream",
     "text": [
      "id_description      1_直進  2_左寄りの直進  3_右寄りの直進  4_右寄りの直進      5_直進     6_障害物\n",
      "id_description                                                            \n",
      "1_直進            0.100000  0.096378  0.003622  0.007680  0.011299  0.096027\n",
      "2_左寄りの直進        0.096378  0.100000  0.000000  0.004058  0.007677  0.092445\n",
      "3_右寄りの直進        0.003622  0.000000  0.100000  0.095942  0.092323  0.007502\n",
      "4_右寄りの直進        0.007680  0.004058  0.095942  0.100000  0.096381  0.011560\n",
      "5_直進            0.011299  0.007677  0.092323  0.096381  0.100000  0.015179\n",
      "6_障害物           0.096027  0.092445  0.007502  0.011560  0.015179  0.100000\n",
      "id_description      1_直進  2_左寄りの直進  3_右寄りの直進  4_右寄りの直進      5_直進     6_障害物\n",
      "id_description                                                            \n",
      "1_直進            0.000000  0.036218  0.963783  0.923201  0.887013  0.039729\n",
      "2_左寄りの直進        0.036218  0.000000  1.000000  0.959418  0.923230  0.075554\n",
      "3_右寄りの直進        0.963783  1.000000  0.000000  0.040582  0.076770  0.924976\n",
      "4_右寄りの直進        0.923201  0.959418  0.040582  0.000000  0.036189  0.884396\n",
      "5_直進            0.887013  0.923230  0.076770  0.036189  0.000000  0.848207\n",
      "6_障害物           0.039729  0.075554  0.924976  0.884396  0.848207  0.000000\n",
      "   id   angle  distance  activation description id_description\n",
      "0   1  333.44      1.12         0.0          直進           1_直進\n",
      "1   2  345.97      1.03         0.0      左寄りの直進       2_左寄りの直進\n",
      "2   3    0.00      1.00         0.0      右寄りの直進       3_右寄りの直進\n",
      "3   4   14.04      1.03         0.0      右寄りの直進       4_右寄りの直進\n",
      "4   5   26.56      1.12         0.0          直進           5_直進\n",
      "5   6  320.00      4.00        -1.0         障害物          6_障害物\n",
      "   id   angle  distance  activation description id_description\n",
      "0   1  333.44      1.12         0.0          直進           1_直進\n",
      "1   2  345.97      1.03         0.0      左寄りの直進       2_左寄りの直進\n",
      "2   3    0.00      1.00         0.0      右寄りの直進       3_右寄りの直進\n",
      "3   4   14.04      1.03         0.0      右寄りの直進       4_右寄りの直進\n",
      "4   5   26.56      1.12         0.0          直進           5_直進\n",
      "5   6  320.00      4.00        -1.0         障害物          6_障害物\n"
     ]
    }
   ],
   "source": [
    "# 新しいデータを追加\n",
    "new_id = len(df) + 1\n",
    "new_activation = -1.0\n",
    "new_description = '障害物'\n",
    "new_angle = float(input('角度を入力してください: '))\n",
    "new_distance = float(input('距離を入力してください: '))\n",
    "\n",
    "new_data = pd.DataFrame({\n",
    "    'id': [new_id],\n",
    "    'activation': [new_activation],\n",
    "    'description': [new_description],\n",
    "    'angle': [new_angle],\n",
    "    'distance': [new_distance]\n",
    "})\n",
    "\n",
    "input_df = pd.concat([df, new_data], ignore_index=True)\n",
    "\n",
    "# idとdescriptionを結合した文字列を作成\n",
    "input_df['id_description'] = input_df['id'].astype(str) + '_' + input_df['description']\n",
    "\n",
    "# ベクトルとして角度と距離を使用するため、データを準備\n",
    "vectors = input_df[['angle', 'distance']]\n",
    "\n",
    "# ベクトル間のユークリッド距離を計算\n",
    "distances = np.linalg.norm(vectors.values[:, np.newaxis] - vectors.values, axis=2)\n",
    "\n",
    "# クロス表に距離を格納\n",
    "cross_table = pd.DataFrame(distances, index=input_df['id_description'], columns=input_df['id_description'])\n",
    "\n",
    "# ユークリッド距離を求めたcross_table\n",
    "#print(cross_table)\n",
    "\n",
    "# ユークリッド距離の評価指標を計算し、再度DataFrameに格納\n",
    "max_distance = np.nanmax(cross_table.values)  # ユークリッド距離の最大値（NaNを除く）\n",
    "evaluated_values = 1 - cross_table.values / max_distance\n",
    "activation_table = pd.DataFrame(evaluated_values, index=cross_table.index, columns=cross_table.columns)\n",
    "\n",
    "# ユークリッド距離を正規化した値をdfに格納\n",
    "#print(activation_table)\n",
    "\n",
    "# 評価指標を1/10にスケーリング\n",
    "activation_table_div10 = activation_table / 10\n",
    "activation_table_min1 = 1-activation_table\n",
    "\n",
    "# 再度activation_tableを表示\n",
    "print(activation_table_div10)\n",
    "print(activation_table_min1)\n",
    "\n",
    "input_df2=input_df.copy()\n",
    "\n",
    "print(input_df)\n",
    "print(input_df2)\n",
    "\n"
   ]
  },
  {
   "cell_type": "code",
   "execution_count": 18,
   "metadata": {},
   "outputs": [
    {
     "name": "stdout",
     "output_type": "stream",
     "text": [
      "1_直進\n"
     ]
    }
   ],
   "source": [
    "\n",
    "for i in range(len(activation_table_div10.columns)-1):\n",
    "    activity_value_temp = activation_table_div10.loc[activation_table_div10.columns[i], activation_table_div10.columns[-1]]\n",
    "    input_df2.loc[input_df2['id_description'] == activation_table_div10.columns[i], 'activation'] += activity_value_temp\n",
    "\n",
    "# 画像を格納するリスト\n",
    "images = []\n",
    "\n",
    "while not (input_df2['activation'] > 1).any():\n",
    "    for i in range(len(activation_table_div10.columns)):\n",
    "        for j in range(len(activation_table_div10.columns)):\n",
    "            if i==j:\n",
    "                continue\n",
    "            activity_value_temp = activation_table_div10.loc[activation_table_div10.columns[i], activation_table_div10.columns[j]]\n",
    "            input_df2.loc[input_df2['id_description'] == activation_table_div10.columns[i], 'activation'] += activity_value_temp\n",
    "\n",
    "# descriptionの最大値を持つレコードを出力\n",
    "max_description = input_df2['activation'].max()\n",
    "max_records = input_df2[input_df2['activation'] == max_description]\n",
    "print(max_records['id_description'][0])"
   ]
  }
 ],
 "metadata": {
  "kernelspec": {
   "display_name": "Python 3",
   "language": "python",
   "name": "python3"
  },
  "language_info": {
   "codemirror_mode": {
    "name": "ipython",
    "version": 3
   },
   "file_extension": ".py",
   "mimetype": "text/x-python",
   "name": "python",
   "nbconvert_exporter": "python",
   "pygments_lexer": "ipython3",
   "version": "3.7.9"
  },
  "orig_nbformat": 4
 },
 "nbformat": 4,
 "nbformat_minor": 2
}
