{
 "cells": [
  {
   "cell_type": "code",
   "execution_count": 1,
   "metadata": {},
   "outputs": [],
   "source": [
    "import os\n",
    "import io\n",
    "import glob\n",
    "import base64\n",
    "import sqlite3\n",
    "import datetime\n",
    "import numpy as np\n",
    "import pandas as pd\n",
    "import networkx as nx\n",
    "import seaborn as sns\n",
    "from PIL import Image\n",
    "import matplotlib as mpl\n",
    "import japanize_matplotlib\n",
    "import matplotlib.pyplot as plt\n",
    "from IPython import display as dd\n",
    "from matplotlib.font_manager import FontProperties"
   ]
  },
  {
   "cell_type": "code",
   "execution_count": 2,
   "metadata": {},
   "outputs": [],
   "source": [
    "# Get current time\n",
    "current_time = datetime.datetime.now().strftime(\"%Y%m%d%H%M%S\")\n",
    "# Create output folder with the current time as part of the name\n",
    "folder_name = f\"./Output_{current_time}\"\n",
    "if not os.path.exists(folder_name):\n",
    "    os.makedirs(folder_name)\n",
    "\n",
    "# 出力\n",
    "Heatmap_path = folder_name + '/heatmap.png'\n",
    "Network_path = folder_name + '/network.png'\n",
    "Plotpoint_path = folder_name + '/plotpoint.png'\n",
    "GIF_path_100 = folder_name + '/graph_100.gif'\n",
    "GIF_path_1000 = folder_name + '/graph_1000.gif'\n",
    "database_path = \"database.sqlite\""
   ]
  },
  {
   "cell_type": "code",
   "execution_count": 3,
   "metadata": {},
   "outputs": [
    {
     "name": "stdout",
     "output_type": "stream",
     "text": [
      "Database already exists. Exiting setup.\n"
     ]
    }
   ],
   "source": [
    "import sqlite3\n",
    "\n",
    "def SQL_SetUp():\n",
    "    conn = sqlite3.connect(database_path)\n",
    "    cursor = conn.cursor()\n",
    "\n",
    "    # データベースファイルが存在する場合は処理を終了\n",
    "    cursor.execute(\"SELECT name FROM sqlite_master WHERE type='table'\")\n",
    "    existing_tables = cursor.fetchall()\n",
    "    if existing_tables:\n",
    "        print(\"Database already exists. Exiting setup.\")\n",
    "        conn.close()\n",
    "        return\n",
    "\n",
    "    # テーブルを作成\n",
    "    cursor.execute('''\n",
    "        CREATE TABLE knowledge (\n",
    "            id INTEGER PRIMARY KEY AUTOINCREMENT,\n",
    "            angle FLOAT,\n",
    "            distance FLOAT,\n",
    "            activation FLOAT DEFAULT 0,\n",
    "            description TEXT\n",
    "        )\n",
    "    ''')\n",
    "\n",
    "    data = [\n",
    "        (\"直進\", 333.44, 1.12, 0),#１番の知識\n",
    "        (\"左寄りの直進\", 345.97, 1.03, 0),#２番の知識\n",
    "        (\"右寄りの直進\", 0, 1, 0),#１番の知識\n",
    "        (\"右寄りの直進\", 14.04, 1.03, 0),#１番の知識\n",
    "        (\"直進\", 26.56, 1.12, 0)#１番の知識\n",
    "    ]\n",
    "\n",
    "    # データを挿入\n",
    "    cursor.executemany(\"INSERT INTO knowledge (description, angle, distance, activation) VALUES (?, ?, ?, ?)\", data)\n",
    "\n",
    "    conn.commit()\n",
    "    conn.close()\n",
    "\n",
    "# データベースのセットアップ\n",
    "SQL_SetUp()\n"
   ]
  },
  {
   "cell_type": "code",
   "execution_count": 8,
   "metadata": {},
   "outputs": [
    {
     "ename": "OperationalError",
     "evalue": "no such table: knowledge",
     "output_type": "error",
     "traceback": [
      "\u001b[1;31m---------------------------------------------------------------------------\u001b[0m",
      "\u001b[1;31mOperationalError\u001b[0m                          Traceback (most recent call last)",
      "\u001b[1;32m~\\AppData\\Local\\Temp\\ipykernel_16104\\943552311.py\u001b[0m in \u001b[0;36m<module>\u001b[1;34m\u001b[0m\n\u001b[0;32m     14\u001b[0m \u001b[1;33m\u001b[0m\u001b[0m\n\u001b[0;32m     15\u001b[0m \u001b[1;31m# データの取得と表示\u001b[0m\u001b[1;33m\u001b[0m\u001b[1;33m\u001b[0m\u001b[1;33m\u001b[0m\u001b[0m\n\u001b[1;32m---> 16\u001b[1;33m \u001b[0mdf\u001b[0m \u001b[1;33m=\u001b[0m \u001b[0mSQL_GetData\u001b[0m\u001b[1;33m(\u001b[0m\u001b[1;33m)\u001b[0m\u001b[1;33m\u001b[0m\u001b[1;33m\u001b[0m\u001b[0m\n\u001b[0m\u001b[0;32m     17\u001b[0m \u001b[0mprint\u001b[0m\u001b[1;33m(\u001b[0m\u001b[0mdf\u001b[0m\u001b[1;33m)\u001b[0m\u001b[1;33m\u001b[0m\u001b[1;33m\u001b[0m\u001b[0m\n",
      "\u001b[1;32m~\\AppData\\Local\\Temp\\ipykernel_16104\\943552311.py\u001b[0m in \u001b[0;36mSQL_GetData\u001b[1;34m()\u001b[0m\n\u001b[0;32m      4\u001b[0m \u001b[1;33m\u001b[0m\u001b[0m\n\u001b[0;32m      5\u001b[0m     \u001b[1;31m# データを取得してDataFrameに格納\u001b[0m\u001b[1;33m\u001b[0m\u001b[1;33m\u001b[0m\u001b[1;33m\u001b[0m\u001b[0m\n\u001b[1;32m----> 6\u001b[1;33m     \u001b[0mcursor\u001b[0m\u001b[1;33m.\u001b[0m\u001b[0mexecute\u001b[0m\u001b[1;33m(\u001b[0m\u001b[1;34m\"SELECT * FROM knowledge\"\u001b[0m\u001b[1;33m)\u001b[0m\u001b[1;33m\u001b[0m\u001b[1;33m\u001b[0m\u001b[0m\n\u001b[0m\u001b[0;32m      7\u001b[0m     \u001b[0mrows\u001b[0m \u001b[1;33m=\u001b[0m \u001b[0mcursor\u001b[0m\u001b[1;33m.\u001b[0m\u001b[0mfetchall\u001b[0m\u001b[1;33m(\u001b[0m\u001b[1;33m)\u001b[0m\u001b[1;33m\u001b[0m\u001b[1;33m\u001b[0m\u001b[0m\n\u001b[0;32m      8\u001b[0m     \u001b[0mcolumns\u001b[0m \u001b[1;33m=\u001b[0m \u001b[1;33m[\u001b[0m\u001b[0mdescription\u001b[0m\u001b[1;33m[\u001b[0m\u001b[1;36m0\u001b[0m\u001b[1;33m]\u001b[0m \u001b[1;32mfor\u001b[0m \u001b[0mdescription\u001b[0m \u001b[1;32min\u001b[0m \u001b[0mcursor\u001b[0m\u001b[1;33m.\u001b[0m\u001b[0mdescription\u001b[0m\u001b[1;33m]\u001b[0m\u001b[1;33m\u001b[0m\u001b[1;33m\u001b[0m\u001b[0m\n",
      "\u001b[1;31mOperationalError\u001b[0m: no such table: knowledge"
     ]
    }
   ],
   "source": [
    "def SQL_GetData():\n",
    "    conn = sqlite3.connect('database_path')\n",
    "    cursor = conn.cursor()\n",
    "\n",
    "    # データを取得してDataFrameに格納\n",
    "    cursor.execute(\"SELECT * FROM knowledge\")\n",
    "    rows = cursor.fetchall()\n",
    "    columns = [description[0] for description in cursor.description]\n",
    "    df = pd.DataFrame(rows, columns=columns)\n",
    "\n",
    "    conn.close()\n",
    "\n",
    "    return df\n",
    "\n",
    "# データの取得と表示\n",
    "df = SQL_GetData()\n",
    "print(df)\n"
   ]
  },
  {
   "cell_type": "code",
   "execution_count": 7,
   "metadata": {},
   "outputs": [
    {
     "name": "stdout",
     "output_type": "stream",
     "text": [
      "1_直進\n"
     ]
    }
   ],
   "source": [
    "# 新しいデータを追加\n",
    "new_id = len(df) + 1\n",
    "new_activation = -1.0\n",
    "new_description = '障害物'\n",
    "new_angle = float(input('角度を入力してください: '))\n",
    "new_distance = float(input('距離を入力してください: '))\n",
    "\n",
    "new_data = pd.DataFrame({\n",
    "    'id': [new_id],\n",
    "    'activation': [new_activation],\n",
    "    'description': [new_description],\n",
    "    'angle': [new_angle],\n",
    "    'distance': [new_distance]\n",
    "})\n",
    "\n",
    "input_df = pd.concat([df, new_data], ignore_index=True)\n",
    "\n",
    "# idとdescriptionを結合した文字列を作成\n",
    "input_df['id_description'] = input_df['id'].astype(str) + '_' + input_df['description']\n",
    "\n",
    "# ベクトルとして角度と距離を使用するため、データを準備\n",
    "vectors = input_df[['angle', 'distance']]\n",
    "\n",
    "# ベクトル間のユークリッド距離を計算\n",
    "distances = np.linalg.norm(vectors.values[:, np.newaxis] - vectors.values, axis=2)\n",
    "\n",
    "# クロス表に距離を格納\n",
    "cross_table = pd.DataFrame(distances, index=input_df['id_description'], columns=input_df['id_description'])\n",
    "\n",
    "# ユークリッド距離を求めたcross_table\n",
    "#print(cross_table)\n",
    "\n",
    "# ユークリッド距離の評価指標を計算し、再度DataFrameに格納\n",
    "max_distance = np.nanmax(cross_table.values)  # ユークリッド距離の最大値（NaNを除く）\n",
    "evaluated_values = 1 - cross_table.values / max_distance\n",
    "activation_table = pd.DataFrame(evaluated_values, index=cross_table.index, columns=cross_table.columns)\n",
    "\n",
    "# ユークリッド距離を正規化した値をdfに格納\n",
    "#print(activation_table)\n",
    "\n",
    "# 評価指標を1/10にスケーリング\n",
    "activation_table_div10 = activation_table / 10\n",
    "activation_table_min1 = 1-activation_table\n",
    "\n",
    "input_df2=input_df.copy()\n",
    "\n",
    "for i in range(len(activation_table_div10.columns)-1):\n",
    "    activity_value_temp = activation_table_div10.loc[activation_table_div10.columns[i], activation_table_div10.columns[-1]]\n",
    "    input_df2.loc[input_df2['id_description'] == activation_table_div10.columns[i], 'activation'] += activity_value_temp\n",
    "\n",
    "# 画像を格納するリスト\n",
    "images = []\n",
    "\n",
    "while not (input_df2['activation'] > 1).any():\n",
    "    for i in range(len(activation_table_div10.columns)):\n",
    "        for j in range(len(activation_table_div10.columns)):\n",
    "            if i==j:\n",
    "                continue\n",
    "            activity_value_temp = activation_table_div10.loc[activation_table_div10.columns[i], activation_table_div10.columns[j]]\n",
    "            input_df2.loc[input_df2['id_description'] == activation_table_div10.columns[i], 'activation'] += activity_value_temp\n",
    "\n",
    "# descriptionの最大値を持つレコードを出力\n",
    "max_description = input_df2['activation'].max()\n",
    "max_records = input_df2[input_df2['activation'] == max_description]\n",
    "print(max_records['id_description'][0])"
   ]
  }
 ],
 "metadata": {
  "kernelspec": {
   "display_name": "Python 3",
   "language": "python",
   "name": "python3"
  },
  "language_info": {
   "codemirror_mode": {
    "name": "ipython",
    "version": 3
   },
   "file_extension": ".py",
   "mimetype": "text/x-python",
   "name": "python",
   "nbconvert_exporter": "python",
   "pygments_lexer": "ipython3",
   "version": "3.7.9"
  },
  "orig_nbformat": 4
 },
 "nbformat": 4,
 "nbformat_minor": 2
}
