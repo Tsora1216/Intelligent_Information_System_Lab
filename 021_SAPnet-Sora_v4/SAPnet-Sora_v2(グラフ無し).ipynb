{
 "cells": [
  {
   "cell_type": "code",
   "execution_count": null,
   "metadata": {},
   "outputs": [],
   "source": [
    "import os\n",
    "import datetime\n",
    "# Get current time\n",
    "current_time = datetime.datetime.now().strftime(\"%Y%m%d%H%M%S\")\n",
    "# Create output folder with the current time as part of the name\n",
    "folder_name = f\"./Output_{current_time}\"\n",
    "if not os.path.exists(folder_name):\n",
    "    os.makedirs(folder_name)\n",
    "\n",
    "# 出力\n",
    "Heatmap_path = folder_name + '/heatmap.png'\n",
    "Network_path = folder_name + '/network.png'\n",
    "Plotpoint_path = folder_name + '/plotpoint.png'\n",
    "GIF_path_100 = folder_name + '/graph_100.gif'\n",
    "GIF_path_1000 = folder_name + '/graph_1000.gif'"
   ]
  },
  {
   "cell_type": "code",
   "execution_count": null,
   "metadata": {},
   "outputs": [],
   "source": [
    "import sqlite3\n",
    "\n",
    "def SQL_SetUp():\n",
    "    conn = sqlite3.connect('database.sqlite')\n",
    "    cursor = conn.cursor()\n",
    "\n",
    "    # データベースファイルが存在する場合は処理を終了\n",
    "    cursor.execute(\"SELECT name FROM sqlite_master WHERE type='table'\")\n",
    "    existing_tables = cursor.fetchall()\n",
    "    if existing_tables:\n",
    "        print(\"Database already exists. Exiting setup.\")\n",
    "        conn.close()\n",
    "        return\n",
    "\n",
    "    # テーブルを作成\n",
    "    cursor.execute('''\n",
    "        CREATE TABLE knowledge (\n",
    "            id INTEGER PRIMARY KEY AUTOINCREMENT,\n",
    "            angle FLOAT,\n",
    "            distance FLOAT,\n",
    "            activation FLOAT DEFAULT 0,\n",
    "            description TEXT\n",
    "        )\n",
    "    ''')\n",
    "\n",
    "    data = [\n",
    "        (\"直進\", 333.44, 1.12, 0),#１番の知識\n",
    "        (\"左寄りの直進\", 345.97, 1.03, 0),#２番の知識\n",
    "        (\"右寄りの直進\", 0, 1, 0),#１番の知識\n",
    "        (\"右寄りの直進\", 14.04, 1.03, 0),#１番の知識\n",
    "        (\"直進\", 26.56, 1.12, 0)#１番の知識\n",
    "    ]\n",
    "\n",
    "\n",
    "    # データを挿入\n",
    "    cursor.executemany(\"INSERT INTO knowledge (description, angle, distance, activation) VALUES (?, ?, ?, ?)\", data)\n",
    "\n",
    "\n",
    "    conn.commit()\n",
    "    conn.close()\n",
    "\n",
    "# データベースのセットアップ\n",
    "SQL_SetUp()"
   ]
  },
  {
   "cell_type": "code",
   "execution_count": null,
   "metadata": {},
   "outputs": [],
   "source": [
    "import sqlite3\n",
    "import pandas as pd\n",
    "\n",
    "def SQL_GetData():\n",
    "    conn = sqlite3.connect('database.sqlite')\n",
    "    cursor = conn.cursor()\n",
    "\n",
    "    # データを取得してDataFrameに格納\n",
    "    cursor.execute(\"SELECT * FROM knowledge\")\n",
    "    rows = cursor.fetchall()\n",
    "    columns = [description[0] for description in cursor.description]\n",
    "    df = pd.DataFrame(rows, columns=columns)\n",
    "\n",
    "    conn.close()\n",
    "\n",
    "    return df\n",
    "\n",
    "# データの取得と表示\n",
    "df = SQL_GetData()\n",
    "print(df)\n"
   ]
  },
  {
   "cell_type": "code",
   "execution_count": 1,
   "metadata": {},
   "outputs": [
    {
     "ename": "NameError",
     "evalue": "name 'df' is not defined",
     "output_type": "error",
     "traceback": [
      "\u001b[1;31m---------------------------------------------------------------------------\u001b[0m",
      "\u001b[1;31mNameError\u001b[0m                                 Traceback (most recent call last)",
      "\u001b[1;32m~\\AppData\\Local\\Temp\\ipykernel_13348\\48828424.py\u001b[0m in \u001b[0;36m<module>\u001b[1;34m\u001b[0m\n\u001b[0;32m      1\u001b[0m \u001b[1;31m# 新しいデータを追加\u001b[0m\u001b[1;33m\u001b[0m\u001b[1;33m\u001b[0m\u001b[1;33m\u001b[0m\u001b[0m\n\u001b[1;32m----> 2\u001b[1;33m \u001b[0mnew_id\u001b[0m \u001b[1;33m=\u001b[0m \u001b[0mlen\u001b[0m\u001b[1;33m(\u001b[0m\u001b[0mdf\u001b[0m\u001b[1;33m)\u001b[0m \u001b[1;33m+\u001b[0m \u001b[1;36m1\u001b[0m\u001b[1;33m\u001b[0m\u001b[1;33m\u001b[0m\u001b[0m\n\u001b[0m\u001b[0;32m      3\u001b[0m \u001b[0mnew_activation\u001b[0m \u001b[1;33m=\u001b[0m \u001b[1;33m-\u001b[0m\u001b[1;36m1.0\u001b[0m\u001b[1;33m\u001b[0m\u001b[1;33m\u001b[0m\u001b[0m\n\u001b[0;32m      4\u001b[0m \u001b[0mnew_description\u001b[0m \u001b[1;33m=\u001b[0m \u001b[1;34m'障害物'\u001b[0m\u001b[1;33m\u001b[0m\u001b[1;33m\u001b[0m\u001b[0m\n\u001b[0;32m      5\u001b[0m \u001b[0mnew_angle\u001b[0m \u001b[1;33m=\u001b[0m \u001b[0mfloat\u001b[0m\u001b[1;33m(\u001b[0m\u001b[0minput\u001b[0m\u001b[1;33m(\u001b[0m\u001b[1;34m'角度を入力してください: '\u001b[0m\u001b[1;33m)\u001b[0m\u001b[1;33m)\u001b[0m\u001b[1;33m\u001b[0m\u001b[1;33m\u001b[0m\u001b[0m\n",
      "\u001b[1;31mNameError\u001b[0m: name 'df' is not defined"
     ]
    }
   ],
   "source": [
    "# 新しいデータを追加\n",
    "new_id = len(df) + 1\n",
    "new_activation = -1.0\n",
    "new_description = '障害物'\n",
    "new_angle = float(input('角度を入力してください: '))\n",
    "new_distance = float(input('距離を入力してください: '))\n",
    "\n",
    "new_data = pd.DataFrame({\n",
    "    'id': [new_id],\n",
    "    'activation': [new_activation],\n",
    "    'description': [new_description],\n",
    "    'angle': [new_angle],\n",
    "    'distance': [new_distance]\n",
    "})\n",
    "\n",
    "input_df = pd.concat([df, new_data], ignore_index=True)\n",
    "# idとdescriptionを結合した文字列を作成\n",
    "input_df['id_description'] = input_df['id'].astype(str) + '_' + input_df['description']\n",
    "\n",
    "print(input_df)"
   ]
  }
 ],
 "metadata": {
  "kernelspec": {
   "display_name": "Python 3",
   "language": "python",
   "name": "python3"
  },
  "language_info": {
   "codemirror_mode": {
    "name": "ipython",
    "version": 3
   },
   "file_extension": ".py",
   "mimetype": "text/x-python",
   "name": "python",
   "nbconvert_exporter": "python",
   "pygments_lexer": "ipython3",
   "version": "3.7.9"
  },
  "orig_nbformat": 4
 },
 "nbformat": 4,
 "nbformat_minor": 2
}
