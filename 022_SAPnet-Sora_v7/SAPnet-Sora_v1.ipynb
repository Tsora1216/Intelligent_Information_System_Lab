{
 "cells": [
  {
   "cell_type": "code",
   "execution_count": 1,
   "metadata": {},
   "outputs": [
    {
     "name": "stdout",
     "output_type": "stream",
     "text": [
      "Defaulting to user installation because normal site-packages is not writeable\n",
      "Collecting git+https://github.com/Tsora1216/TakayaSora\n",
      "  Cloning https://github.com/Tsora1216/TakayaSora to c:\\users\\de\\appdata\\local\\temp\\pip-req-build-o241dkkl\n",
      "  Resolved https://github.com/Tsora1216/TakayaSora to commit 74242113106340aaa02d1e3e55ba4f116645ff32\n",
      "  Preparing metadata (setup.py): started\n",
      "  Preparing metadata (setup.py): finished with status 'done'\n",
      "Building wheels for collected packages: TakayaSora\n",
      "  Building wheel for TakayaSora (setup.py): started\n",
      "  Building wheel for TakayaSora (setup.py): finished with status 'done'\n",
      "  Created wheel for TakayaSora: filename=TakayaSora-0.2-py3-none-any.whl size=3978 sha256=2ceef3de0ca26f717d472e84717634b1659e0a7043d7fe078a12d80dfdf0ae2c\n",
      "  Stored in directory: C:\\Users\\DE\\AppData\\Local\\Temp\\pip-ephem-wheel-cache-i3r_wls0\\wheels\\3a\\a7\\35\\e0cdd2449dfcb0058dc130915277923d28447977c0a5083f0b\n",
      "Successfully built TakayaSora\n",
      "Installing collected packages: TakayaSora\n",
      "Successfully installed TakayaSora-0.2\n"
     ]
    },
    {
     "name": "stderr",
     "output_type": "stream",
     "text": [
      "  Running command git clone --filter=blob:none --quiet https://github.com/Tsora1216/TakayaSora 'C:\\Users\\DE\\AppData\\Local\\Temp\\pip-req-build-o241dkkl'\n"
     ]
    }
   ],
   "source": [
    "!pip install git+https://github.com/Tsora1216/TakayaSora"
   ]
  },
  {
   "cell_type": "code",
   "execution_count": 3,
   "metadata": {},
   "outputs": [
    {
     "name": "stdout",
     "output_type": "stream",
     "text": [
      "Database already exists. Exiting setup.\n",
      "   id  angle  distance  activation description\n",
      "0   1  18.44      1.12         0.0          直進\n",
      "1   2  25.97      1.03         0.0      左寄りの直進\n",
      "2   3  45.00      1.00         0.0      右寄りの直進\n",
      "3   4  59.04      1.03         0.0      右寄りの直進\n",
      "4   5  71.56      1.12         0.0          直進\n"
     ]
    },
    {
     "name": "stdout",
     "output_type": "stream",
     "text": [
      "3    選ばれた知識は「4_右寄りの直進」です。\n",
      "Name: id_description, dtype: object\n",
      "3\n"
     ]
    },
    {
     "ename": "ValueError",
     "evalue": "could not convert string to float: ''",
     "output_type": "error",
     "traceback": [
      "\u001b[1;31m---------------------------------------------------------------------------\u001b[0m",
      "\u001b[1;31mValueError\u001b[0m                                Traceback (most recent call last)",
      "Cell \u001b[1;32mIn[3], line 13\u001b[0m\n\u001b[0;32m      9\u001b[0m distance\u001b[39m=\u001b[39m\u001b[39m1\u001b[39m\n\u001b[0;32m     11\u001b[0m \u001b[39mwhile\u001b[39;00m distance\u001b[39m!=\u001b[39m\u001b[39m0\u001b[39m:\n\u001b[0;32m     12\u001b[0m     \u001b[39m#角度と距離を入力\u001b[39;00m\n\u001b[1;32m---> 13\u001b[0m     angle \u001b[39m=\u001b[39m \u001b[39mfloat\u001b[39;49m(\u001b[39minput\u001b[39;49m(\u001b[39m'\u001b[39;49m\u001b[39m角度を入力してください: \u001b[39;49m\u001b[39m'\u001b[39;49m))\n\u001b[0;32m     14\u001b[0m     distance \u001b[39m=\u001b[39m \u001b[39mfloat\u001b[39m(\u001b[39minput\u001b[39m(\u001b[39m'\u001b[39m\u001b[39m距離を入力してください: \u001b[39m\u001b[39m'\u001b[39m))\n\u001b[0;32m     16\u001b[0m     \u001b[39m#SAP-netにベクトル情報を渡して拡散\u001b[39;00m\n",
      "\u001b[1;31mValueError\u001b[0m: could not convert string to float: ''"
     ]
    }
   ],
   "source": [
    "import TakayaSora as Sora\n",
    "\n",
    "# データベースのセットアップ\n",
    "Sora.SQL_SetUp(\"database4.sqlite\")\n",
    "\n",
    "# データの取得と表示\n",
    "df = Sora.SQL_GetData(\"database4.sqlite\")\n",
    "print(df)\n",
    "distance=1\n",
    "\n",
    "while distance!=0:\n",
    "    #角度と距離を入力\n",
    "    angle = float(input('角度を入力してください: '))\n",
    "    distance = float(input('距離を入力してください: '))\n",
    "    \n",
    "    #SAP-netにベクトル情報を渡して拡散\n",
    "    SAP_df = Sora.SAP_net(df,angle,distance)\n",
    "\n",
    "    #SAP-netが選んだ知識を出力\n",
    "    max_description = SAP_df['activation'].max()\n",
    "    max_records = SAP_df[SAP_df['activation'] == max_description]\n",
    "    select_knowledge = max_records['id_description']\n",
    "    \n",
    "    print(\"選ばれた知識は「\"+select_knowledge+\"」です。\")\n",
    "    #Select_knowledgeの一文字目を抽出したい\n",
    "    print(select_knowledge.to_string()[0])\n",
    "\n",
    "    #次の回のためにdataframeを合わせる\n",
    "    df = Sora.dataframe_fix(SAP_df)\n",
    "    df = Sora.apply_forgetting(df)"
   ]
  }
 ],
 "metadata": {
  "kernelspec": {
   "display_name": "Python 3",
   "language": "python",
   "name": "python3"
  },
  "language_info": {
   "codemirror_mode": {
    "name": "ipython",
    "version": 3
   },
   "file_extension": ".py",
   "mimetype": "text/x-python",
   "name": "python",
   "nbconvert_exporter": "python",
   "pygments_lexer": "ipython3",
   "version": "3.11.3"
  },
  "orig_nbformat": 4
 },
 "nbformat": 4,
 "nbformat_minor": 2
}
