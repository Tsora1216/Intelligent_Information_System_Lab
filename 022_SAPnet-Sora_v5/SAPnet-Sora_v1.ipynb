{
 "cells": [
  {
   "cell_type": "code",
   "execution_count": 5,
   "metadata": {},
   "outputs": [
    {
     "name": "stdout",
     "output_type": "stream",
     "text": [
      "   id   angle  distance  activation description\n",
      "0   1  333.44      1.12         0.0          直進\n",
      "1   2  345.97      1.03         0.0      左寄りの直進\n",
      "2   3    0.00      1.00         0.0      右寄りの直進\n",
      "3   4   14.04      1.03         0.0      右寄りの直進\n",
      "4   5   26.56      1.12         0.0          直進\n",
      "   id   angle  distance  activation description id_description\n",
      "0   1  333.44      1.12    1.171357          直進           1_直進\n",
      "1   2  345.97      1.03    1.095399      左寄りの直進       2_左寄りの直進\n",
      "2   3    0.00      1.00    1.004460      右寄りの直進       3_右寄りの直進\n",
      "3   4   14.04      1.03    1.089681      右寄りの直進       4_右寄りの直進\n",
      "4   5   26.56      1.12    1.129488          直進           5_直進\n",
      "5   6  320.00      3.00    0.113992         障害物          6_障害物\n",
      "1_直進\n"
     ]
    }
   ],
   "source": [
    "#!pip install git+https://github.com/Tsora1216/TakayaSora\n",
    "import TakayaSora as Sora\n",
    "\n",
    "# データベースのセットアップ\n",
    "Sora.SQL_SetUp(\"database.sqlite\")\n",
    "\n",
    "# データの取得と表示\n",
    "df = Sora.SQL_GetData(\"database.sqlite\")\n",
    "print(df)\n",
    "\n",
    "#角度と距離を入力\n",
    "angle = float(input('角度を入力してください: '))\n",
    "distance = float(input('距離を入力してください: '))\n",
    "\n",
    "#SAP-netにベクトル情報を渡して拡散\n",
    "SAP_df = Sora.SAP_net(df,angle,distance)\n",
    "\n",
    "#SAP-netが選んだ知識を出力\n",
    "select_knowledge = Sora.selection(SAP_df)\n",
    "print(SAP_df)\n",
    "print(select_knowledge)"
   ]
  }
 ],
 "metadata": {
  "kernelspec": {
   "display_name": "Python 3",
   "language": "python",
   "name": "python3"
  },
  "language_info": {
   "codemirror_mode": {
    "name": "ipython",
    "version": 3
   },
   "file_extension": ".py",
   "mimetype": "text/x-python",
   "name": "python",
   "nbconvert_exporter": "python",
   "pygments_lexer": "ipython3",
   "version": "3.7.9"
  },
  "orig_nbformat": 4
 },
 "nbformat": 4,
 "nbformat_minor": 2
}
