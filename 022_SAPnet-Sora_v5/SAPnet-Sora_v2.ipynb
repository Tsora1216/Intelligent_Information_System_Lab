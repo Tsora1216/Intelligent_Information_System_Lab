{
 "cells": [
  {
   "cell_type": "code",
   "execution_count": 1,
   "metadata": {},
   "outputs": [
    {
     "name": "stdout",
     "output_type": "stream",
     "text": [
      "Collecting twine\n",
      "  Downloading twine-4.0.2-py3-none-any.whl (36 kB)\n",
      "Collecting pkginfo>=1.8.1 (from twine)\n",
      "  Downloading pkginfo-1.9.6-py3-none-any.whl (30 kB)\n",
      "Collecting readme-renderer>=35.0 (from twine)\n",
      "  Downloading readme_renderer-37.3-py3-none-any.whl (14 kB)\n",
      "Requirement already satisfied: requests>=2.20 in c:\\users\\irsl27\\appdata\\local\\programs\\python\\python37\\lib\\site-packages (from twine) (2.31.0)\n",
      "Collecting requests-toolbelt!=0.9.0,>=0.8.0 (from twine)\n",
      "  Downloading requests_toolbelt-1.0.0-py2.py3-none-any.whl (54 kB)\n",
      "     ---------------------------------------- 54.5/54.5 kB 1.4 MB/s eta 0:00:00\n",
      "Requirement already satisfied: urllib3>=1.26.0 in c:\\users\\irsl27\\appdata\\local\\programs\\python\\python37\\lib\\site-packages (from twine) (2.0.2)\n",
      "Requirement already satisfied: importlib-metadata>=3.6 in c:\\users\\irsl27\\appdata\\local\\programs\\python\\python37\\lib\\site-packages (from twine) (6.6.0)\n",
      "Collecting keyring>=15.1 (from twine)\n",
      "  Downloading keyring-23.13.1-py3-none-any.whl (37 kB)\n",
      "Collecting rfc3986>=1.4.0 (from twine)\n",
      "  Downloading rfc3986-2.0.0-py2.py3-none-any.whl (31 kB)\n",
      "Collecting rich>=12.0.0 (from twine)\n",
      "  Downloading rich-13.4.2-py3-none-any.whl (239 kB)\n",
      "     ------------------------------------ 239.4/239.4 kB 698.7 kB/s eta 0:00:00\n",
      "Requirement already satisfied: zipp>=0.5 in c:\\users\\irsl27\\appdata\\local\\programs\\python\\python37\\lib\\site-packages (from importlib-metadata>=3.6->twine) (3.15.0)\n",
      "Requirement already satisfied: typing-extensions>=3.6.4 in c:\\users\\irsl27\\appdata\\local\\programs\\python\\python37\\lib\\site-packages (from importlib-metadata>=3.6->twine) (4.6.0)\n",
      "Collecting jaraco.classes (from keyring>=15.1->twine)\n",
      "  Downloading jaraco.classes-3.2.3-py3-none-any.whl (6.0 kB)\n",
      "Requirement already satisfied: importlib-resources in c:\\users\\irsl27\\appdata\\local\\programs\\python\\python37\\lib\\site-packages (from keyring>=15.1->twine) (5.12.0)\n",
      "Collecting pywin32-ctypes>=0.2.0 (from keyring>=15.1->twine)\n",
      "  Downloading pywin32_ctypes-0.2.0-py2.py3-none-any.whl (28 kB)\n",
      "Requirement already satisfied: bleach>=2.1.0 in c:\\users\\irsl27\\appdata\\local\\programs\\python\\python37\\lib\\site-packages (from readme-renderer>=35.0->twine) (6.0.0)\n",
      "Collecting docutils>=0.13.1 (from readme-renderer>=35.0->twine)\n",
      "  Downloading docutils-0.20.1-py3-none-any.whl (572 kB)\n",
      "     ------------------------------------ 572.7/572.7 kB 434.0 kB/s eta 0:00:00\n",
      "Requirement already satisfied: Pygments>=2.5.1 in c:\\users\\irsl27\\appdata\\roaming\\python\\python37\\site-packages (from readme-renderer>=35.0->twine) (2.15.1)\n",
      "Requirement already satisfied: charset-normalizer<4,>=2 in c:\\users\\irsl27\\appdata\\local\\programs\\python\\python37\\lib\\site-packages (from requests>=2.20->twine) (3.1.0)\n",
      "Requirement already satisfied: idna<4,>=2.5 in c:\\users\\irsl27\\appdata\\local\\programs\\python\\python37\\lib\\site-packages (from requests>=2.20->twine) (3.4)\n",
      "Requirement already satisfied: certifi>=2017.4.17 in c:\\users\\irsl27\\appdata\\local\\programs\\python\\python37\\lib\\site-packages (from requests>=2.20->twine) (2023.5.7)\n",
      "Collecting markdown-it-py>=2.2.0 (from rich>=12.0.0->twine)\n",
      "  Downloading markdown_it_py-2.2.0-py3-none-any.whl (84 kB)\n",
      "     ---------------------------------------- 84.5/84.5 kB 2.4 MB/s eta 0:00:00\n",
      "Requirement already satisfied: six>=1.9.0 in c:\\users\\irsl27\\appdata\\local\\programs\\python\\python37\\lib\\site-packages (from bleach>=2.1.0->readme-renderer>=35.0->twine) (1.16.0)\n",
      "Requirement already satisfied: webencodings in c:\\users\\irsl27\\appdata\\local\\programs\\python\\python37\\lib\\site-packages (from bleach>=2.1.0->readme-renderer>=35.0->twine) (0.5.1)\n",
      "Collecting mdurl~=0.1 (from markdown-it-py>=2.2.0->rich>=12.0.0->twine)\n",
      "  Downloading mdurl-0.1.2-py3-none-any.whl (10.0 kB)\n",
      "Collecting more-itertools (from jaraco.classes->keyring>=15.1->twine)\n",
      "  Downloading more_itertools-9.1.0-py3-none-any.whl (54 kB)\n",
      "     ---------------------------------------- 54.2/54.2 kB 2.7 MB/s eta 0:00:00\n",
      "Installing collected packages: pywin32-ctypes, rfc3986, pkginfo, more-itertools, mdurl, docutils, requests-toolbelt, readme-renderer, markdown-it-py, jaraco.classes, rich, keyring, twine\n",
      "Successfully installed docutils-0.20.1 jaraco.classes-3.2.3 keyring-23.13.1 markdown-it-py-2.2.0 mdurl-0.1.2 more-itertools-9.1.0 pkginfo-1.9.6 pywin32-ctypes-0.2.0 readme-renderer-37.3 requests-toolbelt-1.0.0 rfc3986-2.0.0 rich-13.4.2 twine-4.0.2\n"
     ]
    }
   ],
   "source": [
    "#https://blog.amedama.jp/entry/2017/12/31/175036\n",
    "!pip install twine"
   ]
  }
 ],
 "metadata": {
  "kernelspec": {
   "display_name": "Python 3",
   "language": "python",
   "name": "python3"
  },
  "language_info": {
   "codemirror_mode": {
    "name": "ipython",
    "version": 3
   },
   "file_extension": ".py",
   "mimetype": "text/x-python",
   "name": "python",
   "nbconvert_exporter": "python",
   "pygments_lexer": "ipython3",
   "version": "3.7.9"
  },
  "orig_nbformat": 4
 },
 "nbformat": 4,
 "nbformat_minor": 2
}
